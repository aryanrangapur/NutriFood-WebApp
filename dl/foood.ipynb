{
 "cells": [
  {
   "cell_type": "code",
   "execution_count": 1,
   "metadata": {},
   "outputs": [
    {
     "name": "stdout",
     "output_type": "stream",
     "text": [
      "GPU 0: NVIDIA GeForce RTX 3050 Laptop GPU (UUID: GPU-78a2ff09-1271-f629-b464-fcb06c32b512)\n"
     ]
    }
   ],
   "source": [
    "!nvidia-smi -L"
   ]
  },
  {
   "cell_type": "code",
   "execution_count": 2,
   "metadata": {},
   "outputs": [
    {
     "name": "stderr",
     "output_type": "stream",
     "text": [
      "ERROR: pip's dependency resolver does not currently take into account all the packages that are installed. This behaviour is the source of the following dependency conflicts.\n",
      "tensorflow-intel 2.16.2 requires ml-dtypes~=0.3.1, but you have ml-dtypes 0.4.1 which is incompatible.\n"
     ]
    },
    {
     "name": "stdout",
     "output_type": "stream",
     "text": [
      "TensorFlow version: 2.16.2\n",
      "Notebook last run (end-to-end): 2024-09-26 15:41:38.852010\n"
     ]
    }
   ],
   "source": [
    "# Note: As of May 2023, there have been some issues with TensorFlow versions 2.9-2.12\n",
    "# with the following code. \n",
    "# However, these seemed to have been fixed in version 2.13+.\n",
    "# TensorFlow version 2.13 is available in tf-nightly as of May 2023 (will be default in Google Colab soon).\n",
    "# Therefore, to prevent errors we'll install tf-nightly first.\n",
    "# See more here: https://github.com/mrdbourke/tensorflow-deep-learning/discussions/550 \n",
    "\n",
    "# Install tf-nightly (required until 2.13.0+ is the default in Google Colab)\n",
    "!pip install -U -q tf-nightly\n",
    "\n",
    "# Check TensorFlow version (should be minimum 2.4.0+ but 2.13.0+ is better)\n",
    "import tensorflow as tf\n",
    "print(f\"TensorFlow version: {tf.__version__}\")\n",
    "\n",
    "# Add timestamp\n",
    "import datetime\n",
    "print(f\"Notebook last run (end-to-end): {datetime.datetime.now()}\")"
   ]
  },
  {
   "cell_type": "code",
   "execution_count": 5,
   "metadata": {},
   "outputs": [
    {
     "name": "stdout",
     "output_type": "stream",
     "text": [
      "Requirement already satisfied: requests in c:\\users\\aryan rangapur\\.conda\\envs\\deeplearning\\lib\\site-packages (2.32.3)\n",
      "Requirement already satisfied: charset-normalizer<4,>=2 in c:\\users\\aryan rangapur\\.conda\\envs\\deeplearning\\lib\\site-packages (from requests) (3.3.2)\n",
      "Requirement already satisfied: idna<4,>=2.5 in c:\\users\\aryan rangapur\\.conda\\envs\\deeplearning\\lib\\site-packages (from requests) (3.7)\n",
      "Requirement already satisfied: urllib3<3,>=1.21.1 in c:\\users\\aryan rangapur\\.conda\\envs\\deeplearning\\lib\\site-packages (from requests) (2.2.2)\n",
      "Requirement already satisfied: certifi>=2017.4.17 in c:\\users\\aryan rangapur\\.conda\\envs\\deeplearning\\lib\\site-packages (from requests) (2024.7.4)\n"
     ]
    }
   ],
   "source": [
    "!pip install requests\n"
   ]
  },
  {
   "cell_type": "code",
   "execution_count": 6,
   "metadata": {},
   "outputs": [
    {
     "name": "stdout",
     "output_type": "stream",
     "text": [
      "[INFO] 'helper_functions.py' does not exist, downloading...\n",
      "[INFO] 'helper_functions.py' downloaded successfully.\n"
     ]
    }
   ],
   "source": [
    "import os\n",
    "import requests\n",
    "\n",
    "url = \"https://raw.githubusercontent.com/mrdbourke/tensorflow-deep-learning/main/extras/helper_functions.py\"\n",
    "file_name = \"helper_functions.py\"\n",
    "\n",
    "if not os.path.exists(file_name):\n",
    "    print(f\"[INFO] '{file_name}' does not exist, downloading...\")\n",
    "    response = requests.get(url)\n",
    "    with open(file_name, 'wb') as file:\n",
    "        file.write(response.content)\n",
    "    print(f\"[INFO] '{file_name}' downloaded successfully.\")\n",
    "else:\n",
    "    print(f\"[INFO] '{file_name}' already exists, skipping download.\")\n"
   ]
  },
  {
   "cell_type": "code",
   "execution_count": 8,
   "metadata": {},
   "outputs": [
    {
     "name": "stdout",
     "output_type": "stream",
     "text": [
      "Collecting matplotlib\n",
      "  Downloading matplotlib-3.9.2-cp312-cp312-win_amd64.whl.metadata (11 kB)\n",
      "Collecting contourpy>=1.0.1 (from matplotlib)\n",
      "  Downloading contourpy-1.3.0-cp312-cp312-win_amd64.whl.metadata (5.4 kB)\n",
      "Collecting cycler>=0.10 (from matplotlib)\n",
      "  Downloading cycler-0.12.1-py3-none-any.whl.metadata (3.8 kB)\n",
      "Collecting fonttools>=4.22.0 (from matplotlib)\n",
      "  Downloading fonttools-4.54.1-cp312-cp312-win_amd64.whl.metadata (167 kB)\n",
      "Collecting kiwisolver>=1.3.1 (from matplotlib)\n",
      "  Downloading kiwisolver-1.4.7-cp312-cp312-win_amd64.whl.metadata (6.4 kB)\n",
      "Requirement already satisfied: numpy>=1.23 in c:\\users\\aryan rangapur\\.conda\\envs\\deeplearning\\lib\\site-packages (from matplotlib) (1.26.4)\n",
      "Requirement already satisfied: packaging>=20.0 in c:\\users\\aryan rangapur\\appdata\\roaming\\python\\python312\\site-packages (from matplotlib) (24.1)\n",
      "Requirement already satisfied: pillow>=8 in c:\\users\\aryan rangapur\\.conda\\envs\\deeplearning\\lib\\site-packages (from matplotlib) (10.4.0)\n",
      "Collecting pyparsing>=2.3.1 (from matplotlib)\n",
      "  Downloading pyparsing-3.1.4-py3-none-any.whl.metadata (5.1 kB)\n",
      "Requirement already satisfied: python-dateutil>=2.7 in c:\\users\\aryan rangapur\\appdata\\roaming\\python\\python312\\site-packages (from matplotlib) (2.9.0.post0)\n",
      "Requirement already satisfied: six>=1.5 in c:\\users\\aryan rangapur\\appdata\\roaming\\python\\python312\\site-packages (from python-dateutil>=2.7->matplotlib) (1.16.0)\n",
      "Downloading matplotlib-3.9.2-cp312-cp312-win_amd64.whl (7.8 MB)\n",
      "   ---------------------------------------- 0.0/7.8 MB ? eta -:--:--\n",
      "   ----- ---------------------------------- 1.0/7.8 MB 5.6 MB/s eta 0:00:02\n",
      "   --------- ------------------------------ 1.8/7.8 MB 4.6 MB/s eta 0:00:02\n",
      "   ------------- -------------------------- 2.6/7.8 MB 4.3 MB/s eta 0:00:02\n",
      "   ----------------- ---------------------- 3.4/7.8 MB 4.2 MB/s eta 0:00:02\n",
      "   --------------------- ------------------ 4.2/7.8 MB 4.1 MB/s eta 0:00:01\n",
      "   ------------------------- -------------- 5.0/7.8 MB 4.1 MB/s eta 0:00:01\n",
      "   ----------------------------- ---------- 5.8/7.8 MB 4.0 MB/s eta 0:00:01\n",
      "   --------------------------------- ------ 6.6/7.8 MB 4.1 MB/s eta 0:00:01\n",
      "   ------------------------------------- -- 7.3/7.8 MB 4.0 MB/s eta 0:00:01\n",
      "   ---------------------------------------- 7.8/7.8 MB 4.0 MB/s eta 0:00:00\n",
      "Downloading contourpy-1.3.0-cp312-cp312-win_amd64.whl (218 kB)\n",
      "Downloading cycler-0.12.1-py3-none-any.whl (8.3 kB)\n",
      "Downloading fonttools-4.54.1-cp312-cp312-win_amd64.whl (2.2 MB)\n",
      "   ---------------------------------------- 0.0/2.2 MB ? eta -:--:--\n",
      "   ------------------- -------------------- 1.0/2.2 MB 4.2 MB/s eta 0:00:01\n",
      "   --------------------------------- ------ 1.8/2.2 MB 4.0 MB/s eta 0:00:01\n",
      "   ---------------------------------------- 2.2/2.2 MB 3.9 MB/s eta 0:00:00\n",
      "Downloading kiwisolver-1.4.7-cp312-cp312-win_amd64.whl (55 kB)\n",
      "Downloading pyparsing-3.1.4-py3-none-any.whl (104 kB)\n",
      "Installing collected packages: pyparsing, kiwisolver, fonttools, cycler, contourpy, matplotlib\n",
      "Successfully installed contourpy-1.3.0 cycler-0.12.1 fonttools-4.54.1 kiwisolver-1.4.7 matplotlib-3.9.2 pyparsing-3.1.4\n"
     ]
    }
   ],
   "source": [
    "!pip install matplotlib"
   ]
  },
  {
   "cell_type": "code",
   "execution_count": 11,
   "metadata": {},
   "outputs": [
    {
     "name": "stdout",
     "output_type": "stream",
     "text": [
      "Collecting scikit-learn\n",
      "  Downloading scikit_learn-1.5.2-cp312-cp312-win_amd64.whl.metadata (13 kB)\n",
      "Requirement already satisfied: numpy>=1.19.5 in c:\\users\\aryan rangapur\\.conda\\envs\\deeplearning\\lib\\site-packages (from scikit-learn) (1.26.4)\n",
      "Collecting scipy>=1.6.0 (from scikit-learn)\n",
      "  Downloading scipy-1.14.1-cp312-cp312-win_amd64.whl.metadata (60 kB)\n",
      "Collecting joblib>=1.2.0 (from scikit-learn)\n",
      "  Downloading joblib-1.4.2-py3-none-any.whl.metadata (5.4 kB)\n",
      "Collecting threadpoolctl>=3.1.0 (from scikit-learn)\n",
      "  Downloading threadpoolctl-3.5.0-py3-none-any.whl.metadata (13 kB)\n",
      "Downloading scikit_learn-1.5.2-cp312-cp312-win_amd64.whl (11.0 MB)\n",
      "   ---------------------------------------- 0.0/11.0 MB ? eta -:--:--\n",
      "   --- ------------------------------------ 1.0/11.0 MB 5.6 MB/s eta 0:00:02\n",
      "   ------ --------------------------------- 1.8/11.0 MB 4.6 MB/s eta 0:00:03\n",
      "   ------- -------------------------------- 2.1/11.0 MB 4.5 MB/s eta 0:00:02\n",
      "   ----------- ---------------------------- 3.1/11.0 MB 4.3 MB/s eta 0:00:02\n",
      "   --------------- ------------------------ 4.2/11.0 MB 4.1 MB/s eta 0:00:02\n",
      "   ------------------ --------------------- 5.0/11.0 MB 4.0 MB/s eta 0:00:02\n",
      "   -------------------- ------------------- 5.8/11.0 MB 4.0 MB/s eta 0:00:02\n",
      "   ----------------------- ---------------- 6.6/11.0 MB 3.9 MB/s eta 0:00:02\n",
      "   -------------------------- ------------- 7.3/11.0 MB 3.9 MB/s eta 0:00:01\n",
      "   ----------------------------- ---------- 8.1/11.0 MB 3.9 MB/s eta 0:00:01\n",
      "   -------------------------------- ------- 8.9/11.0 MB 3.9 MB/s eta 0:00:01\n",
      "   ----------------------------------- ---- 9.7/11.0 MB 3.9 MB/s eta 0:00:01\n",
      "   -------------------------------------- - 10.5/11.0 MB 3.9 MB/s eta 0:00:01\n",
      "   ---------------------------------------- 11.0/11.0 MB 3.9 MB/s eta 0:00:00\n",
      "Downloading joblib-1.4.2-py3-none-any.whl (301 kB)\n",
      "Downloading scipy-1.14.1-cp312-cp312-win_amd64.whl (44.5 MB)\n",
      "   ---------------------------------------- 0.0/44.5 MB ? eta -:--:--\n",
      "    --------------------------------------- 0.8/44.5 MB 4.2 MB/s eta 0:00:11\n",
      "   - -------------------------------------- 1.6/44.5 MB 4.0 MB/s eta 0:00:11\n",
      "   -- ------------------------------------- 2.4/44.5 MB 3.9 MB/s eta 0:00:11\n",
      "   -- ------------------------------------- 3.1/44.5 MB 3.9 MB/s eta 0:00:11\n",
      "   --- ------------------------------------ 3.9/44.5 MB 3.9 MB/s eta 0:00:11\n",
      "   ---- ----------------------------------- 4.7/44.5 MB 3.9 MB/s eta 0:00:11\n",
      "   ---- ----------------------------------- 5.5/44.5 MB 3.9 MB/s eta 0:00:11\n",
      "   ----- ---------------------------------- 6.3/44.5 MB 3.9 MB/s eta 0:00:10\n",
      "   ------ --------------------------------- 7.1/44.5 MB 3.9 MB/s eta 0:00:10\n",
      "   ------- -------------------------------- 7.9/44.5 MB 3.8 MB/s eta 0:00:10\n",
      "   ------- -------------------------------- 8.7/44.5 MB 3.8 MB/s eta 0:00:10\n",
      "   -------- ------------------------------- 9.4/44.5 MB 3.8 MB/s eta 0:00:10\n",
      "   --------- ------------------------------ 10.2/44.5 MB 3.8 MB/s eta 0:00:09\n",
      "   --------- ------------------------------ 11.0/44.5 MB 3.9 MB/s eta 0:00:09\n",
      "   ---------- ----------------------------- 11.8/44.5 MB 3.8 MB/s eta 0:00:09\n",
      "   ----------- ---------------------------- 12.6/44.5 MB 3.9 MB/s eta 0:00:09\n",
      "   ------------ --------------------------- 13.4/44.5 MB 3.8 MB/s eta 0:00:09\n",
      "   ------------ --------------------------- 14.2/44.5 MB 3.9 MB/s eta 0:00:08\n",
      "   ------------- -------------------------- 14.9/44.5 MB 3.9 MB/s eta 0:00:08\n",
      "   -------------- ------------------------- 15.7/44.5 MB 3.9 MB/s eta 0:00:08\n",
      "   -------------- ------------------------- 16.5/44.5 MB 3.9 MB/s eta 0:00:08\n",
      "   --------------- ------------------------ 17.3/44.5 MB 3.9 MB/s eta 0:00:08\n",
      "   ---------------- ----------------------- 18.1/44.5 MB 3.9 MB/s eta 0:00:07\n",
      "   ---------------- ----------------------- 18.9/44.5 MB 3.9 MB/s eta 0:00:07\n",
      "   ----------------- ---------------------- 19.7/44.5 MB 3.9 MB/s eta 0:00:07\n",
      "   ------------------ --------------------- 20.7/44.5 MB 3.9 MB/s eta 0:00:07\n",
      "   ------------------- -------------------- 21.5/44.5 MB 3.9 MB/s eta 0:00:06\n",
      "   -------------------- ------------------- 22.3/44.5 MB 3.9 MB/s eta 0:00:06\n",
      "   -------------------- ------------------- 23.1/44.5 MB 3.9 MB/s eta 0:00:06\n",
      "   --------------------- ------------------ 23.9/44.5 MB 3.9 MB/s eta 0:00:06\n",
      "   ---------------------- ----------------- 24.6/44.5 MB 3.9 MB/s eta 0:00:06\n",
      "   ---------------------- ----------------- 25.4/44.5 MB 3.9 MB/s eta 0:00:05\n",
      "   ----------------------- ---------------- 26.2/44.5 MB 3.9 MB/s eta 0:00:05\n",
      "   ------------------------ --------------- 27.0/44.5 MB 3.9 MB/s eta 0:00:05\n",
      "   ------------------------ --------------- 27.8/44.5 MB 3.9 MB/s eta 0:00:05\n",
      "   ------------------------- -------------- 28.6/44.5 MB 3.9 MB/s eta 0:00:05\n",
      "   -------------------------- ------------- 29.4/44.5 MB 3.9 MB/s eta 0:00:04\n",
      "   --------------------------- ------------ 30.1/44.5 MB 3.9 MB/s eta 0:00:04\n",
      "   --------------------------- ------------ 30.9/44.5 MB 3.9 MB/s eta 0:00:04\n",
      "   ---------------------------- ----------- 31.7/44.5 MB 3.9 MB/s eta 0:00:04\n",
      "   ----------------------------- ---------- 32.5/44.5 MB 3.9 MB/s eta 0:00:04\n",
      "   ----------------------------- ---------- 33.3/44.5 MB 3.9 MB/s eta 0:00:03\n",
      "   ------------------------------ --------- 34.1/44.5 MB 3.9 MB/s eta 0:00:03\n",
      "   ------------------------------- -------- 34.9/44.5 MB 3.9 MB/s eta 0:00:03\n",
      "   -------------------------------- ------- 35.7/44.5 MB 3.9 MB/s eta 0:00:03\n",
      "   -------------------------------- ------- 36.4/44.5 MB 3.9 MB/s eta 0:00:03\n",
      "   --------------------------------- ------ 37.2/44.5 MB 3.9 MB/s eta 0:00:02\n",
      "   ---------------------------------- ----- 38.0/44.5 MB 3.9 MB/s eta 0:00:02\n",
      "   ---------------------------------- ----- 38.8/44.5 MB 3.9 MB/s eta 0:00:02\n",
      "   ----------------------------------- ---- 39.6/44.5 MB 3.9 MB/s eta 0:00:02\n",
      "   ------------------------------------ --- 40.4/44.5 MB 3.9 MB/s eta 0:00:02\n",
      "   ------------------------------------ --- 41.2/44.5 MB 3.9 MB/s eta 0:00:01\n",
      "   ------------------------------------- -- 41.7/44.5 MB 3.9 MB/s eta 0:00:01\n",
      "   -------------------------------------- - 42.7/44.5 MB 3.9 MB/s eta 0:00:01\n",
      "   ---------------------------------------  43.5/44.5 MB 3.9 MB/s eta 0:00:01\n",
      "   ---------------------------------------  44.3/44.5 MB 3.9 MB/s eta 0:00:01\n",
      "   ---------------------------------------- 44.5/44.5 MB 3.8 MB/s eta 0:00:00\n",
      "Downloading threadpoolctl-3.5.0-py3-none-any.whl (18 kB)\n",
      "Installing collected packages: threadpoolctl, scipy, joblib, scikit-learn\n",
      "Successfully installed joblib-1.4.2 scikit-learn-1.5.2 scipy-1.14.1 threadpoolctl-3.5.0\n"
     ]
    },
    {
     "name": "stderr",
     "output_type": "stream",
     "text": [
      "ERROR: pip's dependency resolver does not currently take into account all the packages that are installed. This behaviour is the source of the following dependency conflicts.\n",
      "easyocr 1.7.1 requires scikit-image, which is not installed.\n"
     ]
    }
   ],
   "source": [
    "!pip install scikit-learn"
   ]
  },
  {
   "cell_type": "code",
   "execution_count": 12,
   "metadata": {},
   "outputs": [],
   "source": [
    "# Import series of helper functions for the notebook (we've created/used these in previous notebooks)\n",
    "from helper_functions import create_tensorboard_callback, plot_loss_curves, compare_historys"
   ]
  },
  {
   "cell_type": "code",
   "execution_count": null,
   "metadata": {},
   "outputs": [],
   "source": [
    "!pip install "
   ]
  },
  {
   "cell_type": "code",
   "execution_count": 13,
   "metadata": {},
   "outputs": [
    {
     "ename": "ModuleNotFoundError",
     "evalue": "No module named 'tensorflow_datasets'",
     "output_type": "error",
     "traceback": [
      "\u001b[1;31m---------------------------------------------------------------------------\u001b[0m",
      "\u001b[1;31mModuleNotFoundError\u001b[0m                       Traceback (most recent call last)",
      "Cell \u001b[1;32mIn[13], line 2\u001b[0m\n\u001b[0;32m      1\u001b[0m \u001b[38;5;66;03m# Get TensorFlow Datasets\u001b[39;00m\n\u001b[1;32m----> 2\u001b[0m \u001b[38;5;28;01mimport\u001b[39;00m \u001b[38;5;21;01mtensorflow_datasets\u001b[39;00m \u001b[38;5;28;01mas\u001b[39;00m \u001b[38;5;21;01mtfds\u001b[39;00m\n",
      "\u001b[1;31mModuleNotFoundError\u001b[0m: No module named 'tensorflow_datasets'"
     ]
    }
   ],
   "source": [
    "# Get TensorFlow Datasets\n",
    "import tensorflow_datasets as tfds"
   ]
  },
  {
   "cell_type": "code",
   "execution_count": null,
   "metadata": {},
   "outputs": [],
   "source": []
  }
 ],
 "metadata": {
  "kernelspec": {
   "display_name": "Python 3",
   "language": "python",
   "name": "python3"
  },
  "language_info": {
   "codemirror_mode": {
    "name": "ipython",
    "version": 3
   },
   "file_extension": ".py",
   "mimetype": "text/x-python",
   "name": "python",
   "nbconvert_exporter": "python",
   "pygments_lexer": "ipython3",
   "version": "3.12.4"
  }
 },
 "nbformat": 4,
 "nbformat_minor": 2
}
